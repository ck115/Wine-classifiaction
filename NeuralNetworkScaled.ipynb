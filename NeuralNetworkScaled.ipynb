{
 "cells": [
  {
   "cell_type": "markdown",
   "id": "795d2960",
   "metadata": {},
   "source": [
    "### Using *scaled* data\n",
    "First I am importing necessary libraries, then importing data, removing the arbitrary index \"Unnamed: 0\" column, and viewing the first few observations for each."
   ]
  },
  {
   "cell_type": "code",
   "execution_count": 145,
   "id": "e94b5395",
   "metadata": {},
   "outputs": [],
   "source": [
    "import numpy as np\n",
    "import pandas as pd\n",
    "import matplotlib.pyplot as plt\n",
    "import tensorflow as tf\n",
    "import keras\n",
    "from keras import backend as K\n",
    "import sklearn\n",
    "from sklearn.preprocessing import MinMaxScaler"
   ]
  },
  {
   "cell_type": "code",
   "execution_count": 146,
   "id": "b1eca79f",
   "metadata": {},
   "outputs": [
    {
     "data": {
      "text/html": [
       "<div>\n",
       "<style scoped>\n",
       "    .dataframe tbody tr th:only-of-type {\n",
       "        vertical-align: middle;\n",
       "    }\n",
       "\n",
       "    .dataframe tbody tr th {\n",
       "        vertical-align: top;\n",
       "    }\n",
       "\n",
       "    .dataframe thead th {\n",
       "        text-align: right;\n",
       "    }\n",
       "</style>\n",
       "<table border=\"1\" class=\"dataframe\">\n",
       "  <thead>\n",
       "    <tr style=\"text-align: right;\">\n",
       "      <th></th>\n",
       "      <th>fixed acidity</th>\n",
       "      <th>volatile acidity</th>\n",
       "      <th>citric acid</th>\n",
       "      <th>chlorides</th>\n",
       "      <th>total sulfur dioxide</th>\n",
       "      <th>density</th>\n",
       "      <th>sulphates</th>\n",
       "      <th>alcohol</th>\n",
       "      <th>quality</th>\n",
       "      <th>alcohol_higher</th>\n",
       "      <th>va_high</th>\n",
       "    </tr>\n",
       "  </thead>\n",
       "  <tbody>\n",
       "    <tr>\n",
       "      <th>0</th>\n",
       "      <td>7.0</td>\n",
       "      <td>0.685</td>\n",
       "      <td>0.00</td>\n",
       "      <td>0.067</td>\n",
       "      <td>63.0</td>\n",
       "      <td>0.99790</td>\n",
       "      <td>0.81</td>\n",
       "      <td>9.90</td>\n",
       "      <td>5</td>\n",
       "      <td>0</td>\n",
       "      <td>1</td>\n",
       "    </tr>\n",
       "    <tr>\n",
       "      <th>1</th>\n",
       "      <td>8.6</td>\n",
       "      <td>0.685</td>\n",
       "      <td>0.10</td>\n",
       "      <td>0.092</td>\n",
       "      <td>12.0</td>\n",
       "      <td>0.99745</td>\n",
       "      <td>0.65</td>\n",
       "      <td>9.55</td>\n",
       "      <td>6</td>\n",
       "      <td>0</td>\n",
       "      <td>1</td>\n",
       "    </tr>\n",
       "    <tr>\n",
       "      <th>2</th>\n",
       "      <td>5.6</td>\n",
       "      <td>0.660</td>\n",
       "      <td>0.00</td>\n",
       "      <td>0.087</td>\n",
       "      <td>11.0</td>\n",
       "      <td>0.99378</td>\n",
       "      <td>0.63</td>\n",
       "      <td>12.80</td>\n",
       "      <td>7</td>\n",
       "      <td>1</td>\n",
       "      <td>1</td>\n",
       "    </tr>\n",
       "    <tr>\n",
       "      <th>3</th>\n",
       "      <td>7.7</td>\n",
       "      <td>0.510</td>\n",
       "      <td>0.28</td>\n",
       "      <td>0.087</td>\n",
       "      <td>54.0</td>\n",
       "      <td>0.99800</td>\n",
       "      <td>0.74</td>\n",
       "      <td>9.20</td>\n",
       "      <td>5</td>\n",
       "      <td>0</td>\n",
       "      <td>0</td>\n",
       "    </tr>\n",
       "    <tr>\n",
       "      <th>4</th>\n",
       "      <td>8.7</td>\n",
       "      <td>0.310</td>\n",
       "      <td>0.46</td>\n",
       "      <td>0.059</td>\n",
       "      <td>25.0</td>\n",
       "      <td>0.99660</td>\n",
       "      <td>0.76</td>\n",
       "      <td>10.10</td>\n",
       "      <td>6</td>\n",
       "      <td>0</td>\n",
       "      <td>0</td>\n",
       "    </tr>\n",
       "  </tbody>\n",
       "</table>\n",
       "</div>"
      ],
      "text/plain": [
       "   fixed acidity  volatile acidity  citric acid  chlorides  \\\n",
       "0            7.0             0.685         0.00      0.067   \n",
       "1            8.6             0.685         0.10      0.092   \n",
       "2            5.6             0.660         0.00      0.087   \n",
       "3            7.7             0.510         0.28      0.087   \n",
       "4            8.7             0.310         0.46      0.059   \n",
       "\n",
       "   total sulfur dioxide  density  sulphates  alcohol  quality  alcohol_higher  \\\n",
       "0                  63.0  0.99790       0.81     9.90        5               0   \n",
       "1                  12.0  0.99745       0.65     9.55        6               0   \n",
       "2                  11.0  0.99378       0.63    12.80        7               1   \n",
       "3                  54.0  0.99800       0.74     9.20        5               0   \n",
       "4                  25.0  0.99660       0.76    10.10        6               0   \n",
       "\n",
       "   va_high  \n",
       "0        1  \n",
       "1        1  \n",
       "2        1  \n",
       "3        0  \n",
       "4        0  "
      ]
     },
     "execution_count": 146,
     "metadata": {},
     "output_type": "execute_result"
    }
   ],
   "source": [
    "train = pd.read_csv('data/red_wine_train.csv')\n",
    "train.drop('Unnamed: 0',axis=1, inplace=True)\n",
    "train.head()"
   ]
  },
  {
   "cell_type": "code",
   "execution_count": 147,
   "id": "64ab0ca7",
   "metadata": {},
   "outputs": [
    {
     "data": {
      "text/html": [
       "<div>\n",
       "<style scoped>\n",
       "    .dataframe tbody tr th:only-of-type {\n",
       "        vertical-align: middle;\n",
       "    }\n",
       "\n",
       "    .dataframe tbody tr th {\n",
       "        vertical-align: top;\n",
       "    }\n",
       "\n",
       "    .dataframe thead th {\n",
       "        text-align: right;\n",
       "    }\n",
       "</style>\n",
       "<table border=\"1\" class=\"dataframe\">\n",
       "  <thead>\n",
       "    <tr style=\"text-align: right;\">\n",
       "      <th></th>\n",
       "      <th>fixed acidity</th>\n",
       "      <th>volatile acidity</th>\n",
       "      <th>citric acid</th>\n",
       "      <th>chlorides</th>\n",
       "      <th>total sulfur dioxide</th>\n",
       "      <th>density</th>\n",
       "      <th>sulphates</th>\n",
       "      <th>alcohol</th>\n",
       "      <th>quality</th>\n",
       "      <th>alcohol_higher</th>\n",
       "      <th>va_high</th>\n",
       "    </tr>\n",
       "  </thead>\n",
       "  <tbody>\n",
       "    <tr>\n",
       "      <th>0</th>\n",
       "      <td>12.6</td>\n",
       "      <td>0.310</td>\n",
       "      <td>0.72</td>\n",
       "      <td>0.072</td>\n",
       "      <td>29.0</td>\n",
       "      <td>0.99870</td>\n",
       "      <td>0.82</td>\n",
       "      <td>9.8</td>\n",
       "      <td>8</td>\n",
       "      <td>0</td>\n",
       "      <td>0</td>\n",
       "    </tr>\n",
       "    <tr>\n",
       "      <th>1</th>\n",
       "      <td>11.8</td>\n",
       "      <td>0.330</td>\n",
       "      <td>0.49</td>\n",
       "      <td>0.093</td>\n",
       "      <td>80.0</td>\n",
       "      <td>1.00020</td>\n",
       "      <td>0.76</td>\n",
       "      <td>10.7</td>\n",
       "      <td>7</td>\n",
       "      <td>0</td>\n",
       "      <td>0</td>\n",
       "    </tr>\n",
       "    <tr>\n",
       "      <th>2</th>\n",
       "      <td>7.1</td>\n",
       "      <td>0.875</td>\n",
       "      <td>0.05</td>\n",
       "      <td>0.082</td>\n",
       "      <td>14.0</td>\n",
       "      <td>0.99808</td>\n",
       "      <td>0.52</td>\n",
       "      <td>10.2</td>\n",
       "      <td>3</td>\n",
       "      <td>0</td>\n",
       "      <td>1</td>\n",
       "    </tr>\n",
       "    <tr>\n",
       "      <th>3</th>\n",
       "      <td>9.0</td>\n",
       "      <td>0.800</td>\n",
       "      <td>0.12</td>\n",
       "      <td>0.083</td>\n",
       "      <td>28.0</td>\n",
       "      <td>0.99836</td>\n",
       "      <td>0.65</td>\n",
       "      <td>10.4</td>\n",
       "      <td>6</td>\n",
       "      <td>0</td>\n",
       "      <td>1</td>\n",
       "    </tr>\n",
       "    <tr>\n",
       "      <th>4</th>\n",
       "      <td>7.9</td>\n",
       "      <td>0.690</td>\n",
       "      <td>0.21</td>\n",
       "      <td>0.080</td>\n",
       "      <td>141.0</td>\n",
       "      <td>0.99620</td>\n",
       "      <td>0.51</td>\n",
       "      <td>9.9</td>\n",
       "      <td>5</td>\n",
       "      <td>0</td>\n",
       "      <td>1</td>\n",
       "    </tr>\n",
       "  </tbody>\n",
       "</table>\n",
       "</div>"
      ],
      "text/plain": [
       "   fixed acidity  volatile acidity  citric acid  chlorides  \\\n",
       "0           12.6             0.310         0.72      0.072   \n",
       "1           11.8             0.330         0.49      0.093   \n",
       "2            7.1             0.875         0.05      0.082   \n",
       "3            9.0             0.800         0.12      0.083   \n",
       "4            7.9             0.690         0.21      0.080   \n",
       "\n",
       "   total sulfur dioxide  density  sulphates  alcohol  quality  alcohol_higher  \\\n",
       "0                  29.0  0.99870       0.82      9.8        8               0   \n",
       "1                  80.0  1.00020       0.76     10.7        7               0   \n",
       "2                  14.0  0.99808       0.52     10.2        3               0   \n",
       "3                  28.0  0.99836       0.65     10.4        6               0   \n",
       "4                 141.0  0.99620       0.51      9.9        5               0   \n",
       "\n",
       "   va_high  \n",
       "0        0  \n",
       "1        0  \n",
       "2        1  \n",
       "3        1  \n",
       "4        1  "
      ]
     },
     "execution_count": 147,
     "metadata": {},
     "output_type": "execute_result"
    }
   ],
   "source": [
    "test = pd.read_csv('data/red_wine_test.csv')\n",
    "test.drop('Unnamed: 0',axis=1, inplace=True)\n",
    "test.head()"
   ]
  },
  {
   "cell_type": "markdown",
   "id": "58ee6974",
   "metadata": {},
   "source": [
    "To decide how to scale each attribute, I am viewing the statistical summary of each column with describe(). Some columns already range from 0 to 1 while others have maximums above 10 or for total sulfur dioxide, almost 300. To ensure the neural network performs ideally, I am going to scale each column to [0,1] using the Min-Max Normalization method through scikitlearn's MinMaxScaler. Since we already split the data into test and train sets, I am first going to recombine these two disjoint dataframes back into one dataframe so that my values for mins and maxes needed for the formula are constant across scaling each of the two dataframes--it is likely that test and/or train contains a unique min or max value, and if we performed the min and max fit on these dfs separately, the values would not be the same (if one had a lower max for example) and our scaling would be flawed. This way, two equal values will certainly be transformed to the same value whether or not they begin in test or in train."
   ]
  },
  {
   "cell_type": "markdown",
   "id": "fb094e61",
   "metadata": {},
   "source": [
    "As mentioned, first we concatenate test and train back into one dataframe. Next we use .describe() to view summary of each column. Then we make a histogram of the 'quality' column to see what kind of imbalance we are working with. "
   ]
  },
  {
   "cell_type": "code",
   "execution_count": 148,
   "id": "1f65a87d",
   "metadata": {
    "scrolled": false
   },
   "outputs": [],
   "source": [
    "#recombining train & test to get overall max and min values so test and train are scaled w same values in the scaler\n",
    "whole_set = pd.concat([train,test])\n",
    "\n",
    "#make variable for each quality column\n",
    "qual3 = (whole_set[whole_set[\"quality\"]==3])\n",
    "qual4 = (whole_set[whole_set[\"quality\"]==4]) \n",
    "qual5 = (whole_set[whole_set[\"quality\"]==5]) \n",
    "qual6 = (whole_set[whole_set[\"quality\"]==6])\n",
    "qual7 = (whole_set[whole_set[\"quality\"]==7])\n",
    "qual8 = (whole_set[whole_set[\"quality\"]==8])\n",
    "\n",
    "#number of samples per class label to determine inbalance\n",
    "n_qual3 = len(qual3) #10\n",
    "n_qual4 = len(qual4) #53\n",
    "n_qual5 = len(qual5) #681\n",
    "n_qual6 = len(qual6) #638\n",
    "n_qual7 = len(qual7) #199\n",
    "n_qual8 = len(qual8) #18\n",
    "\n",
    "#make each column a numpy array for class weights computation\n",
    "qual3_numpy = qual3['quality'].to_numpy()\n",
    "qual4_numpy = qual4['quality'].to_numpy()\n",
    "qual5_numpy = qual5['quality'].to_numpy()\n",
    "qual6_numpy = qual6['quality'].to_numpy()\n",
    "qual7_numpy = qual7['quality'].to_numpy()\n",
    "qual8_numpy = qual8['quality'].to_numpy()\n",
    "\n",
    "#combine numpy arrays into whole numpy and set variable for class values\n",
    "whole_numpy = np.concatenate((qual3_numpy, qual4_numpy, qual5_numpy, qual6_numpy, qual7_numpy, qual8_numpy))\n",
    "unique_classes = np.unique(whole_numpy)\n",
    "\n",
    "#compute weights with sklearn method\n",
    "weights = sklearn.utils.class_weight.compute_class_weight(class_weight='balanced', classes=unique_classes, y=whole_numpy)\n",
    "weights_dict = {i:w for i,w in enumerate(weights)}"
   ]
  },
  {
   "cell_type": "code",
   "execution_count": 149,
   "id": "2921fc53",
   "metadata": {},
   "outputs": [
    {
     "data": {
      "image/png": "[encoded data removed]",
      "text/plain": [
       "<Figure size 640x480 with 1 Axes>"
      ]
     },
     "metadata": {},
     "output_type": "display_data"
    }
   ],
   "source": [
    "whole_set.describe() #summary to understand all columns have varying scales\n",
    "\n",
    "#plot to show imbalanced data\n",
    "plt.hist(whole_set['quality'], bins=12)\n",
    "plt.title(\"Histogram of Qualities of Observations\")\n",
    "plt.ylabel('Number of observations')\n",
    "plt.xlabel('Quality')\n",
    "plt.show()"
   ]
  },
  {
   "cell_type": "markdown",
   "id": "e6d05a40",
   "metadata": {},
   "source": [
    "Here, we fit the scaler before using it to transform both train and test dfs."
   ]
  },
  {
   "cell_type": "markdown",
   "id": "fcefef52",
   "metadata": {},
   "source": [
    "From our scaled data frames, we will separate each into dataframes of attributes only and class label 'quality' only. Additionally we put the number of attributes into a variable n_inputs to be used as a parameter in the model."
   ]
  },
  {
   "cell_type": "code",
   "execution_count": 150,
   "id": "1a4aefcf",
   "metadata": {},
   "outputs": [],
   "source": [
    "#####\n",
    "#drop quality class label column before scaling\n",
    "whole_set.drop('quality',axis=1, inplace=True)\n",
    "\n",
    "#build scaler\n",
    "scaler = MinMaxScaler() #build scaler\n",
    "scaler.fit(whole_set) #fit scaler to entire df\n",
    "\n",
    "#####drop quality\n",
    "trainAttr = train.drop('quality',axis=1) #training df without class column\n",
    "\n",
    "testAttr = test.drop('quality',axis=1) #training df without class column\n",
    "\n",
    "trainClassAttr = train['quality'] #training df only class column\n",
    "\n",
    "testClassAttr = test['quality'] #testing df only class column\n",
    "\n",
    "trainClassAttr = trainClassAttr.map({3:0, 4:1, 5:2, 6:3, 7:4, 8:5})\n",
    "testClassAttr = testClassAttr.map({3:0, 4:1, 5:2, 6:3, 7:4, 8:5})\n",
    "\n",
    "#transform train and test separately, both using same scaler fit from whole df\n",
    "train_scaled=scaler.transform(trainAttr)\n",
    "test_scaled=scaler.transform(testAttr)\n",
    "\n",
    "#make transformed data in a dataframe (.transform returns arrays, we want df) using old col names\n",
    "train_scaled = pd.DataFrame(train_scaled, columns=trainAttr.columns)\n",
    "test_scaled = pd.DataFrame(test_scaled, columns=testAttr.columns)\n",
    "\n",
    "####variable for input\n",
    "n_inputs = [trainAttr.shape[1]] #10 attributes = 10 input nodes"
   ]
  },
  {
   "cell_type": "code",
   "execution_count": 151,
   "id": "fa6c0d93",
   "metadata": {
    "scrolled": true
   },
   "outputs": [
    {
     "data": {
      "text/plain": [
       "<AxesSubplot:>"
      ]
     },
     "execution_count": 151,
     "metadata": {},
     "output_type": "execute_result"
    },
    {
     "data": {
      "image/png": "[encoded data removed]",
      "text/plain": [
       "<Figure size 640x480 with 1 Axes>"
      ]
     },
     "metadata": {},
     "output_type": "display_data"
    }
   ],
   "source": [
    "#plot each class column (train and test) to see how imbalance compares\n",
    "testClassAttr.hist()\n",
    "trainClassAttr.hist()"
   ]
  },
  {
   "cell_type": "markdown",
   "id": "5a8959fc",
   "metadata": {},
   "source": [
    "Next we build, summarize, and compile the model."
   ]
  },
  {
   "cell_type": "code",
   "execution_count": 152,
   "id": "5bfcb3c3",
   "metadata": {
    "scrolled": true
   },
   "outputs": [
    {
     "name": "stdout",
     "output_type": "stream",
     "text": [
      "Model: \"sequential_22\"\n",
      "_________________________________________________________________\n",
      " Layer (type)                Output Shape              Param #   \n",
      "=================================================================\n",
      " dense_57 (Dense)            (None, 64)                704       \n",
      "                                                                 \n",
      " dense_58 (Dense)            (None, 6)                 390       \n",
      "                                                                 \n",
      "=================================================================\n",
      "Total params: 1,094\n",
      "Trainable params: 1,094\n",
      "Non-trainable params: 0\n",
      "_________________________________________________________________\n"
     ]
    }
   ],
   "source": [
    "#modelScaled = tf.keras.Sequential([tf.keras.layers.Dense(units=1,input_shape=n_inputs)]) #build model with one layer\n",
    "#modelScaled.summary()\n",
    "\n",
    "\n",
    "\n",
    "modelScaled = tf.keras.Sequential([\n",
    " \n",
    "    tf.keras.layers.Dense(units=64, activation='relu',\n",
    "                          input_shape=n_inputs),\n",
    "    tf.keras.layers.Dense(units=6, activation='softmax')\n",
    "])\n",
    "\n",
    "modelScaled.summary()"
   ]
  },
  {
   "cell_type": "code",
   "execution_count": 153,
   "id": "601810a4",
   "metadata": {},
   "outputs": [],
   "source": [
    "modelScaled.compile(optimizer='adam',\n",
    "              loss='mae',\n",
    "              metrics=['accuracy'])\n",
    "\n",
    "#K.set_value(modelScaled.optimizer.learning_rate, 0.1)"
   ]
  },
  {
   "cell_type": "markdown",
   "id": "73deabdb",
   "metadata": {},
   "source": [
    "Finally we fit the model and view the accuracy outputs at each epoch."
   ]
  },
  {
   "cell_type": "code",
   "execution_count": 154,
   "id": "b803c081",
   "metadata": {},
   "outputs": [
    {
     "name": "stdout",
     "output_type": "stream",
     "text": [
      "Epoch 1/5\n",
      "40/40 [==============================] - 1s 3ms/step - loss: 2.4726 - accuracy: 0.0594\n",
      "Epoch 2/5\n",
      "40/40 [==============================] - 0s 3ms/step - loss: 2.4726 - accuracy: 0.0594\n",
      "Epoch 3/5\n",
      "40/40 [==============================] - 0s 3ms/step - loss: 2.4726 - accuracy: 0.0594\n",
      "Epoch 4/5\n",
      "40/40 [==============================] - 0s 3ms/step - loss: 2.4726 - accuracy: 0.0594\n",
      "Epoch 5/5\n",
      "40/40 [==============================] - 0s 3ms/step - loss: 2.4726 - accuracy: 0.0594\n"
     ]
    },
    {
     "data": {
      "text/plain": [
       "<keras.callbacks.History at 0x1a031233820>"
      ]
     },
     "execution_count": 154,
     "metadata": {},
     "output_type": "execute_result"
    }
   ],
   "source": [
    "modelScaled.fit(train_scaled, trainClassAttr, epochs=5)"
   ]
  },
  {
   "cell_type": "code",
   "execution_count": 155,
   "id": "9add1fa7",
   "metadata": {
    "scrolled": true
   },
   "outputs": [
    {
     "name": "stdout",
     "output_type": "stream",
     "text": [
      "Epoch 1/5\n",
      "26/26 [==============================] - 1s 18ms/step - loss: 2.4205 - accuracy: 0.0594 - val_loss: 2.4667 - val_accuracy: 0.0562\n",
      "Epoch 2/5\n",
      "26/26 [==============================] - 0s 6ms/step - loss: 2.4205 - accuracy: 0.0594 - val_loss: 2.4667 - val_accuracy: 0.0562\n",
      "Epoch 3/5\n",
      "26/26 [==============================] - 0s 7ms/step - loss: 2.4205 - accuracy: 0.0594 - val_loss: 2.4667 - val_accuracy: 0.0562\n",
      "Epoch 4/5\n",
      "26/26 [==============================] - 0s 6ms/step - loss: 2.4205 - accuracy: 0.0594 - val_loss: 2.4667 - val_accuracy: 0.0562\n",
      "Epoch 5/5\n",
      "26/26 [==============================] - 0s 6ms/step - loss: 2.4205 - accuracy: 0.0594 - val_loss: 2.4667 - val_accuracy: 0.0562\n"
     ]
    },
    {
     "data": {
      "text/plain": [
       "<keras.callbacks.History at 0x1a0312ea670>"
      ]
     },
     "execution_count": 155,
     "metadata": {},
     "output_type": "execute_result"
    }
   ],
   "source": [
    "modelScaled.fit(train_scaled, trainClassAttr,\n",
    " \n",
    "                   validation_data=(test_scaled, testClassAttr),\n",
    "                    class_weight=weights_dict,\n",
    "                    \n",
    "                   # it will use 'batch_size' number\n",
    "                   # of examples per example\n",
    "                   batch_size=50,\n",
    "                   epochs=5,  # total epoch\n",
    " \n",
    "                   )"
   ]
  },
  {
   "cell_type": "code",
   "execution_count": null,
   "id": "104f2c8a",
   "metadata": {},
   "outputs": [],
   "source": []
  }
 ],
 "metadata": {
  "kernelspec": {
   "display_name": "Python 3 (ipykernel)",
   "language": "python",
   "name": "python3"
  },
  "language_info": {
   "codemirror_mode": {
    "name": "ipython",
    "version": 3
   },
   "file_extension": ".py",
   "mimetype": "text/x-python",
   "name": "python",
   "nbconvert_exporter": "python",
   "pygments_lexer": "ipython3",
   "version": "3.9.13"
  }
 },
 "nbformat": 4,
 "nbformat_minor": 5
}
