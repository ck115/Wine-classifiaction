{
 "cells": [
  {
   "cell_type": "code",
   "execution_count": 1,
   "id": "f2fc8c1e",
   "metadata": {},
   "outputs": [],
   "source": [
    "import numpy as np\n",
    "import pandas as pd\n",
    "import matplotlib.pyplot as plt\n",
    "import tensorflow as tf\n",
    "import keras\n",
    "import sklearn\n",
    "from sklearn.preprocessing import MinMaxScaler\n",
    "from sklearn.metrics import accuracy_score, precision_score, recall_score, f1_score"
   ]
  },
  {
   "cell_type": "code",
   "execution_count": 2,
   "id": "9e6d4069",
   "metadata": {},
   "outputs": [
    {
     "data": {
      "text/html": [
       "<div>\n",
       "<style scoped>\n",
       "    .dataframe tbody tr th:only-of-type {\n",
       "        vertical-align: middle;\n",
       "    }\n",
       "\n",
       "    .dataframe tbody tr th {\n",
       "        vertical-align: top;\n",
       "    }\n",
       "\n",
       "    .dataframe thead th {\n",
       "        text-align: right;\n",
       "    }\n",
       "</style>\n",
       "<table border=\"1\" class=\"dataframe\">\n",
       "  <thead>\n",
       "    <tr style=\"text-align: right;\">\n",
       "      <th></th>\n",
       "      <th>volatile acidity</th>\n",
       "      <th>citric acid</th>\n",
       "      <th>sulphates</th>\n",
       "      <th>alcohol</th>\n",
       "      <th>quality</th>\n",
       "    </tr>\n",
       "  </thead>\n",
       "  <tbody>\n",
       "    <tr>\n",
       "      <th>1348</th>\n",
       "      <td>0.655</td>\n",
       "      <td>0.03</td>\n",
       "      <td>0.39</td>\n",
       "      <td>9.5</td>\n",
       "      <td>5</td>\n",
       "    </tr>\n",
       "    <tr>\n",
       "      <th>117</th>\n",
       "      <td>0.560</td>\n",
       "      <td>0.12</td>\n",
       "      <td>0.50</td>\n",
       "      <td>9.4</td>\n",
       "      <td>6</td>\n",
       "    </tr>\n",
       "    <tr>\n",
       "      <th>1150</th>\n",
       "      <td>0.330</td>\n",
       "      <td>0.32</td>\n",
       "      <td>0.76</td>\n",
       "      <td>12.8</td>\n",
       "      <td>7</td>\n",
       "    </tr>\n",
       "    <tr>\n",
       "      <th>235</th>\n",
       "      <td>0.630</td>\n",
       "      <td>0.00</td>\n",
       "      <td>0.58</td>\n",
       "      <td>9.0</td>\n",
       "      <td>6</td>\n",
       "    </tr>\n",
       "    <tr>\n",
       "      <th>91</th>\n",
       "      <td>0.490</td>\n",
       "      <td>0.28</td>\n",
       "      <td>1.95</td>\n",
       "      <td>9.9</td>\n",
       "      <td>6</td>\n",
       "    </tr>\n",
       "  </tbody>\n",
       "</table>\n",
       "</div>"
      ],
      "text/plain": [
       "      volatile acidity  citric acid  sulphates  alcohol  quality\n",
       "1348             0.655         0.03       0.39      9.5        5\n",
       "117              0.560         0.12       0.50      9.4        6\n",
       "1150             0.330         0.32       0.76     12.8        7\n",
       "235              0.630         0.00       0.58      9.0        6\n",
       "91               0.490         0.28       1.95      9.9        6"
      ]
     },
     "execution_count": 2,
     "metadata": {},
     "output_type": "execute_result"
    }
   ],
   "source": [
    "train = pd.read_csv('data/red_wine_train.csv',index_col=0)\n",
    "\n",
    "#dropping columns based on heatmap correlations in EDA\n",
    "train = train.drop(['fixed acidity', 'chlorides', 'density', 'total sulfur dioxide', 'alcohol_higher', 'va_high'], axis=1)\n",
    "train.head()"
   ]
  },
  {
   "cell_type": "code",
   "execution_count": 3,
   "id": "74444298",
   "metadata": {},
   "outputs": [],
   "source": [
    "test = pd.read_csv('data/red_wine_test.csv', index_col=0)\n",
    "test = test.drop(['fixed acidity', 'chlorides', 'density', 'total sulfur dioxide', 'alcohol_higher', 'va_high'], axis=1)"
   ]
  },
  {
   "cell_type": "code",
   "execution_count": 4,
   "id": "20ab255d",
   "metadata": {},
   "outputs": [],
   "source": [
    "###begin raw"
   ]
  },
  {
   "cell_type": "code",
   "execution_count": 5,
   "id": "92fd9b1b",
   "metadata": {},
   "outputs": [],
   "source": [
    "x_train = train.drop('quality',axis=1) #training df without class column\n",
    "\n",
    "x_test = test.drop('quality',axis=1) #testing df without class column\n",
    "\n",
    "y_train = train['quality'] #training df only class column\n",
    "\n",
    "y_test = test['quality'] #testing df only class column\n",
    "\n",
    "y_train = y_train.map({3:0, 4:1, 5:2, 6:3, 7:4, 8:5})\n",
    "y_test = y_test.map({3:0, 4:1, 5:2, 6:3, 7:4, 8:5})"
   ]
  },
  {
   "cell_type": "code",
   "execution_count": 6,
   "id": "dabfeaa3",
   "metadata": {},
   "outputs": [],
   "source": [
    "n_inputs = [x_train.shape[1]] #n cols => n inputs in model\n",
    "n_units = 12\n",
    "n_batch = 100\n",
    "n_epochs = 10"
   ]
  },
  {
   "cell_type": "code",
   "execution_count": 7,
   "id": "815e47c2",
   "metadata": {},
   "outputs": [
    {
     "name": "stdout",
     "output_type": "stream",
     "text": [
      "Model: \"sequential\"\n",
      "_________________________________________________________________\n",
      " Layer (type)                Output Shape              Param #   \n",
      "=================================================================\n",
      " dense (Dense)               (None, 12)                60        \n",
      "                                                                 \n",
      " dense_1 (Dense)             (None, 6)                 78        \n",
      "                                                                 \n",
      "=================================================================\n",
      "Total params: 138\n",
      "Trainable params: 138\n",
      "Non-trainable params: 0\n",
      "_________________________________________________________________\n"
     ]
    }
   ],
   "source": [
    "tf.keras.backend.clear_session() #resets parameters, necessary before each new model\n",
    "keras.utils.set_random_seed(1) #setting random seed for the entire program\n",
    "\n",
    "modelRaw = tf.keras.Sequential([tf.keras.layers.Dense(units=n_units, activation='relu', input_shape=n_inputs),\n",
    "                                tf.keras.layers.Dense(units=6, activation='softmax')])\n",
    "\n",
    "modelRaw.summary()\n",
    "\n",
    "modelRaw.compile(optimizer='adam',loss='mae', metrics=['accuracy'])"
   ]
  },
  {
   "cell_type": "code",
   "execution_count": 8,
   "id": "22ce9e36",
   "metadata": {},
   "outputs": [],
   "source": [
    "# modelRaw.fit(x_train, y_train, epochs=n_epochs)"
   ]
  },
  {
   "cell_type": "code",
   "execution_count": 9,
   "id": "2ce749ab",
   "metadata": {},
   "outputs": [
    {
     "name": "stdout",
     "output_type": "stream",
     "text": [
      "Epoch 1/10\n",
      "13/13 [==============================] - 1s 13ms/step - loss: 2.4726 - accuracy: 0.3987 - val_loss: 2.4667 - val_accuracy: 0.4000\n",
      "Epoch 2/10\n",
      "13/13 [==============================] - 0s 4ms/step - loss: 2.4726 - accuracy: 0.3987 - val_loss: 2.4667 - val_accuracy: 0.4000\n",
      "Epoch 3/10\n",
      "13/13 [==============================] - 0s 4ms/step - loss: 2.4726 - accuracy: 0.3987 - val_loss: 2.4667 - val_accuracy: 0.4000\n",
      "Epoch 4/10\n",
      "13/13 [==============================] - 0s 4ms/step - loss: 2.4726 - accuracy: 0.3987 - val_loss: 2.4667 - val_accuracy: 0.4000\n",
      "Epoch 5/10\n",
      "13/13 [==============================] - 0s 4ms/step - loss: 2.4726 - accuracy: 0.3987 - val_loss: 2.4667 - val_accuracy: 0.4000\n",
      "Epoch 6/10\n",
      "13/13 [==============================] - 0s 4ms/step - loss: 2.4726 - accuracy: 0.3987 - val_loss: 2.4667 - val_accuracy: 0.4000\n",
      "Epoch 7/10\n",
      "13/13 [==============================] - 0s 5ms/step - loss: 2.4726 - accuracy: 0.3987 - val_loss: 2.4667 - val_accuracy: 0.4000\n",
      "Epoch 8/10\n",
      "13/13 [==============================] - 0s 4ms/step - loss: 2.4726 - accuracy: 0.3987 - val_loss: 2.4667 - val_accuracy: 0.4000\n",
      "Epoch 9/10\n",
      "13/13 [==============================] - 0s 4ms/step - loss: 2.4726 - accuracy: 0.3987 - val_loss: 2.4667 - val_accuracy: 0.4000\n",
      "Epoch 10/10\n",
      "13/13 [==============================] - 0s 4ms/step - loss: 2.4726 - accuracy: 0.3987 - val_loss: 2.4667 - val_accuracy: 0.4000\n"
     ]
    },
    {
     "data": {
      "text/plain": [
       "<keras.callbacks.History at 0x14281002df0>"
      ]
     },
     "execution_count": 9,
     "metadata": {},
     "output_type": "execute_result"
    }
   ],
   "source": [
    "modelRaw.fit(x_train, y_train, validation_data=(x_test, y_test), batch_size=n_batch, epochs=n_epochs)"
   ]
  },
  {
   "cell_type": "code",
   "execution_count": 10,
   "id": "2347ef20",
   "metadata": {},
   "outputs": [],
   "source": [
    "###end raw\n",
    "\n",
    "###begin scaled"
   ]
  },
  {
   "cell_type": "code",
   "execution_count": 11,
   "id": "d843b868",
   "metadata": {},
   "outputs": [
    {
     "data": {
      "text/html": [
       "<div>\n",
       "<style scoped>\n",
       "    .dataframe tbody tr th:only-of-type {\n",
       "        vertical-align: middle;\n",
       "    }\n",
       "\n",
       "    .dataframe tbody tr th {\n",
       "        vertical-align: top;\n",
       "    }\n",
       "\n",
       "    .dataframe thead th {\n",
       "        text-align: right;\n",
       "    }\n",
       "</style>\n",
       "<table border=\"1\" class=\"dataframe\">\n",
       "  <thead>\n",
       "    <tr style=\"text-align: right;\">\n",
       "      <th></th>\n",
       "      <th>volatile acidity</th>\n",
       "      <th>citric acid</th>\n",
       "      <th>sulphates</th>\n",
       "      <th>alcohol</th>\n",
       "      <th>quality</th>\n",
       "    </tr>\n",
       "  </thead>\n",
       "  <tbody>\n",
       "    <tr>\n",
       "      <th>count</th>\n",
       "      <td>1599.000000</td>\n",
       "      <td>1599.000000</td>\n",
       "      <td>1599.000000</td>\n",
       "      <td>1599.000000</td>\n",
       "      <td>1599.000000</td>\n",
       "    </tr>\n",
       "    <tr>\n",
       "      <th>mean</th>\n",
       "      <td>0.527821</td>\n",
       "      <td>0.270976</td>\n",
       "      <td>0.658149</td>\n",
       "      <td>10.422983</td>\n",
       "      <td>5.636023</td>\n",
       "    </tr>\n",
       "    <tr>\n",
       "      <th>std</th>\n",
       "      <td>0.179060</td>\n",
       "      <td>0.194801</td>\n",
       "      <td>0.169507</td>\n",
       "      <td>1.065668</td>\n",
       "      <td>0.807569</td>\n",
       "    </tr>\n",
       "    <tr>\n",
       "      <th>min</th>\n",
       "      <td>0.120000</td>\n",
       "      <td>0.000000</td>\n",
       "      <td>0.330000</td>\n",
       "      <td>8.400000</td>\n",
       "      <td>3.000000</td>\n",
       "    </tr>\n",
       "    <tr>\n",
       "      <th>25%</th>\n",
       "      <td>0.390000</td>\n",
       "      <td>0.090000</td>\n",
       "      <td>0.550000</td>\n",
       "      <td>9.500000</td>\n",
       "      <td>5.000000</td>\n",
       "    </tr>\n",
       "    <tr>\n",
       "      <th>50%</th>\n",
       "      <td>0.520000</td>\n",
       "      <td>0.260000</td>\n",
       "      <td>0.620000</td>\n",
       "      <td>10.200000</td>\n",
       "      <td>6.000000</td>\n",
       "    </tr>\n",
       "    <tr>\n",
       "      <th>75%</th>\n",
       "      <td>0.640000</td>\n",
       "      <td>0.420000</td>\n",
       "      <td>0.730000</td>\n",
       "      <td>11.100000</td>\n",
       "      <td>6.000000</td>\n",
       "    </tr>\n",
       "    <tr>\n",
       "      <th>max</th>\n",
       "      <td>1.580000</td>\n",
       "      <td>1.000000</td>\n",
       "      <td>2.000000</td>\n",
       "      <td>14.900000</td>\n",
       "      <td>8.000000</td>\n",
       "    </tr>\n",
       "  </tbody>\n",
       "</table>\n",
       "</div>"
      ],
      "text/plain": [
       "       volatile acidity  citric acid    sulphates      alcohol      quality\n",
       "count       1599.000000  1599.000000  1599.000000  1599.000000  1599.000000\n",
       "mean           0.527821     0.270976     0.658149    10.422983     5.636023\n",
       "std            0.179060     0.194801     0.169507     1.065668     0.807569\n",
       "min            0.120000     0.000000     0.330000     8.400000     3.000000\n",
       "25%            0.390000     0.090000     0.550000     9.500000     5.000000\n",
       "50%            0.520000     0.260000     0.620000    10.200000     6.000000\n",
       "75%            0.640000     0.420000     0.730000    11.100000     6.000000\n",
       "max            1.580000     1.000000     2.000000    14.900000     8.000000"
      ]
     },
     "execution_count": 11,
     "metadata": {},
     "output_type": "execute_result"
    }
   ],
   "source": [
    "#recombining train & test to get overall max and min values so test and train are scaled w same values in the scaler\n",
    "whole_set = pd.concat([train,test])\n",
    "whole_set.describe() #summary to show all columns have varying scales"
   ]
  },
  {
   "cell_type": "code",
   "execution_count": 12,
   "id": "bb336312",
   "metadata": {},
   "outputs": [
    {
     "data": {
      "text/plain": [
       "MinMaxScaler()"
      ]
     },
     "execution_count": 12,
     "metadata": {},
     "output_type": "execute_result"
    }
   ],
   "source": [
    "#drop quality class label column before scaling\n",
    "whole_set.drop('quality',axis=1, inplace=True)\n",
    "\n",
    "#build scaler\n",
    "scaler = MinMaxScaler() #build scaler\n",
    "scaler.fit(whole_set) #fit scaler to entire df w/o quality col"
   ]
  },
  {
   "cell_type": "code",
   "execution_count": 13,
   "id": "fc9e4487",
   "metadata": {},
   "outputs": [],
   "source": [
    "x_trainScaled=scaler.transform(x_train)\n",
    "x_testScaled=scaler.transform(x_test)\n",
    "\n",
    "#make transformed data in a dataframe (.transform returns arrays, we want df) using old col names\n",
    "x_trainScaled = pd.DataFrame(x_trainScaled, columns=x_train.columns)\n",
    "x_testScaled = pd.DataFrame(x_testScaled, columns=x_test.columns)"
   ]
  },
  {
   "cell_type": "code",
   "execution_count": 14,
   "id": "de109de6",
   "metadata": {},
   "outputs": [
    {
     "data": {
      "text/html": [
       "<div>\n",
       "<style scoped>\n",
       "    .dataframe tbody tr th:only-of-type {\n",
       "        vertical-align: middle;\n",
       "    }\n",
       "\n",
       "    .dataframe tbody tr th {\n",
       "        vertical-align: top;\n",
       "    }\n",
       "\n",
       "    .dataframe thead th {\n",
       "        text-align: right;\n",
       "    }\n",
       "</style>\n",
       "<table border=\"1\" class=\"dataframe\">\n",
       "  <thead>\n",
       "    <tr style=\"text-align: right;\">\n",
       "      <th></th>\n",
       "      <th>volatile acidity</th>\n",
       "      <th>citric acid</th>\n",
       "      <th>sulphates</th>\n",
       "      <th>alcohol</th>\n",
       "    </tr>\n",
       "  </thead>\n",
       "  <tbody>\n",
       "    <tr>\n",
       "      <th>count</th>\n",
       "      <td>1279.000000</td>\n",
       "      <td>1279.000000</td>\n",
       "      <td>1279.000000</td>\n",
       "      <td>1279.000000</td>\n",
       "    </tr>\n",
       "    <tr>\n",
       "      <th>mean</th>\n",
       "      <td>0.281668</td>\n",
       "      <td>0.266059</td>\n",
       "      <td>0.195751</td>\n",
       "      <td>0.310976</td>\n",
       "    </tr>\n",
       "    <tr>\n",
       "      <th>std</th>\n",
       "      <td>0.120700</td>\n",
       "      <td>0.193606</td>\n",
       "      <td>0.099773</td>\n",
       "      <td>0.166797</td>\n",
       "    </tr>\n",
       "    <tr>\n",
       "      <th>min</th>\n",
       "      <td>0.000000</td>\n",
       "      <td>0.000000</td>\n",
       "      <td>0.000000</td>\n",
       "      <td>0.000000</td>\n",
       "    </tr>\n",
       "    <tr>\n",
       "      <th>25%</th>\n",
       "      <td>0.191781</td>\n",
       "      <td>0.090000</td>\n",
       "      <td>0.131737</td>\n",
       "      <td>0.169231</td>\n",
       "    </tr>\n",
       "    <tr>\n",
       "      <th>50%</th>\n",
       "      <td>0.273973</td>\n",
       "      <td>0.250000</td>\n",
       "      <td>0.173653</td>\n",
       "      <td>0.276923</td>\n",
       "    </tr>\n",
       "    <tr>\n",
       "      <th>75%</th>\n",
       "      <td>0.356164</td>\n",
       "      <td>0.420000</td>\n",
       "      <td>0.239521</td>\n",
       "      <td>0.415385</td>\n",
       "    </tr>\n",
       "    <tr>\n",
       "      <th>max</th>\n",
       "      <td>1.000000</td>\n",
       "      <td>1.000000</td>\n",
       "      <td>1.000000</td>\n",
       "      <td>1.000000</td>\n",
       "    </tr>\n",
       "  </tbody>\n",
       "</table>\n",
       "</div>"
      ],
      "text/plain": [
       "       volatile acidity  citric acid    sulphates      alcohol\n",
       "count       1279.000000  1279.000000  1279.000000  1279.000000\n",
       "mean           0.281668     0.266059     0.195751     0.310976\n",
       "std            0.120700     0.193606     0.099773     0.166797\n",
       "min            0.000000     0.000000     0.000000     0.000000\n",
       "25%            0.191781     0.090000     0.131737     0.169231\n",
       "50%            0.273973     0.250000     0.173653     0.276923\n",
       "75%            0.356164     0.420000     0.239521     0.415385\n",
       "max            1.000000     1.000000     1.000000     1.000000"
      ]
     },
     "execution_count": 14,
     "metadata": {},
     "output_type": "execute_result"
    }
   ],
   "source": [
    "x_trainScaled.describe() #now each attr column has min 0 and max 1"
   ]
  },
  {
   "cell_type": "code",
   "execution_count": 15,
   "id": "7df0f7af",
   "metadata": {},
   "outputs": [
    {
     "name": "stdout",
     "output_type": "stream",
     "text": [
      "Model: \"sequential\"\n",
      "_________________________________________________________________\n",
      " Layer (type)                Output Shape              Param #   \n",
      "=================================================================\n",
      " dense (Dense)               (None, 12)                60        \n",
      "                                                                 \n",
      " dense_1 (Dense)             (None, 6)                 78        \n",
      "                                                                 \n",
      "=================================================================\n",
      "Total params: 138\n",
      "Trainable params: 138\n",
      "Non-trainable params: 0\n",
      "_________________________________________________________________\n"
     ]
    }
   ],
   "source": [
    "tf.keras.backend.clear_session() #resets parameters, necessary before each new model\n",
    "\n",
    "modelScaled = tf.keras.Sequential([tf.keras.layers.Dense(units=n_units, activation='relu', input_shape=n_inputs),\n",
    "                                    tf.keras.layers.Dense(units=6, activation='softmax')])\n",
    "\n",
    "modelScaled.summary()\n",
    "\n",
    "modelScaled.compile(optimizer='adam', loss='mae', metrics=['accuracy'])\n",
    "\n",
    "# modelScaled.fit(x_trainScaled, y_train, epochs=n_epochs)"
   ]
  },
  {
   "cell_type": "code",
   "execution_count": 16,
   "id": "686970b7",
   "metadata": {},
   "outputs": [
    {
     "name": "stdout",
     "output_type": "stream",
     "text": [
      "Epoch 1/10\n",
      "13/13 [==============================] - 1s 16ms/step - loss: 2.4726 - accuracy: 0.1970 - val_loss: 2.4667 - val_accuracy: 0.1656\n",
      "Epoch 2/10\n",
      "13/13 [==============================] - 0s 4ms/step - loss: 2.4726 - accuracy: 0.1970 - val_loss: 2.4667 - val_accuracy: 0.1656\n",
      "Epoch 3/10\n",
      "13/13 [==============================] - 0s 5ms/step - loss: 2.4726 - accuracy: 0.1970 - val_loss: 2.4667 - val_accuracy: 0.1656\n",
      "Epoch 4/10\n",
      "13/13 [==============================] - 0s 4ms/step - loss: 2.4726 - accuracy: 0.1970 - val_loss: 2.4667 - val_accuracy: 0.1656\n",
      "Epoch 5/10\n",
      "13/13 [==============================] - 0s 4ms/step - loss: 2.4726 - accuracy: 0.1970 - val_loss: 2.4667 - val_accuracy: 0.1656\n",
      "Epoch 6/10\n",
      "13/13 [==============================] - 0s 4ms/step - loss: 2.4726 - accuracy: 0.1970 - val_loss: 2.4667 - val_accuracy: 0.1656\n",
      "Epoch 7/10\n",
      "13/13 [==============================] - 0s 5ms/step - loss: 2.4726 - accuracy: 0.1970 - val_loss: 2.4667 - val_accuracy: 0.1656\n",
      "Epoch 8/10\n",
      "13/13 [==============================] - 0s 5ms/step - loss: 2.4726 - accuracy: 0.1970 - val_loss: 2.4667 - val_accuracy: 0.1656\n",
      "Epoch 9/10\n",
      "13/13 [==============================] - 0s 5ms/step - loss: 2.4726 - accuracy: 0.1970 - val_loss: 2.4667 - val_accuracy: 0.1656\n",
      "Epoch 10/10\n",
      "13/13 [==============================] - 0s 5ms/step - loss: 2.4726 - accuracy: 0.1970 - val_loss: 2.4667 - val_accuracy: 0.1656\n"
     ]
    },
    {
     "data": {
      "text/plain": [
       "<keras.callbacks.History at 0x142823aec10>"
      ]
     },
     "execution_count": 16,
     "metadata": {},
     "output_type": "execute_result"
    }
   ],
   "source": [
    "modelScaled.fit(x_trainScaled, y_train, validation_data=(x_testScaled, y_test), batch_size=n_batch, epochs=n_epochs)"
   ]
  },
  {
   "cell_type": "code",
   "execution_count": 17,
   "id": "39550c84",
   "metadata": {},
   "outputs": [],
   "source": [
    "###end scaled\n",
    "\n",
    "###begin oversampled"
   ]
  },
  {
   "cell_type": "code",
   "execution_count": 18,
   "id": "5c4a7283",
   "metadata": {},
   "outputs": [
    {
     "data": {
      "image/png": "[encoded data removed]",
      "text/plain": [
       "<Figure size 640x480 with 1 Axes>"
      ]
     },
     "metadata": {},
     "output_type": "display_data"
    }
   ],
   "source": [
    "#plot to show that oversampling balanced the data\n",
    "plt.hist(y_train, bins=11)\n",
    "plt.title(\"Histogram of Qualities before Oversampling\")\n",
    "plt.ylabel('Number of observations')\n",
    "plt.xlabel('Quality')\n",
    "plt.show()"
   ]
  },
  {
   "cell_type": "code",
   "execution_count": 19,
   "id": "f611e09d",
   "metadata": {},
   "outputs": [],
   "source": [
    "#dividing train into separate dfs for each class value\n",
    "qual3 = (train[train[\"quality\"]==3])\n",
    "qual4 = (train[train[\"quality\"]==4]) \n",
    "qual5 = (train[train[\"quality\"]==5]) \n",
    "qual6 = (train[train[\"quality\"]==6])\n",
    "qual7 = (train[train[\"quality\"]==7])\n",
    "qual8 = (train[train[\"quality\"]==8])\n",
    "\n",
    "#number of samples per class label to determine inbalance\n",
    "n_qual3 = len(qual3) #8\n",
    "n_qual4 = len(qual4) #42\n",
    "n_qual5 = len(qual5) #545\n",
    "n_qual6 = len(qual6) #510\n",
    "n_qual7 = len(qual7) #159\n",
    "n_qual8 = len(qual8) #15\n",
    "\n",
    "n_max = max(n_qual3, n_qual4, n_qual5, n_qual6, n_qual7, n_qual8) #545"
   ]
  },
  {
   "cell_type": "code",
   "execution_count": 20,
   "id": "4491129b",
   "metadata": {},
   "outputs": [],
   "source": [
    "#oversample so that each class has the same number of observations,\n",
    "#equal to the number of observations of quality 5\n",
    "qual3Oversampled = qual3.sample(n_max, replace=True)\n",
    "qual4Oversampled = qual4.sample(n_max, replace=True)\n",
    "qual6Oversampled = qual6.sample(n_max, replace=True)\n",
    "qual7Oversampled = qual7.sample(n_max, replace=True)\n",
    "qual8Oversampled = qual8.sample(n_max, replace=True)"
   ]
  },
  {
   "cell_type": "code",
   "execution_count": 21,
   "id": "53a43ae4",
   "metadata": {},
   "outputs": [],
   "source": [
    "#concat back into one df. this is unscaled\n",
    "trainOversampled = pd.concat([qual3Oversampled, qual4Oversampled, qual5, qual6Oversampled, qual7Oversampled, qual8Oversampled])"
   ]
  },
  {
   "cell_type": "code",
   "execution_count": 22,
   "id": "07fc4f50",
   "metadata": {},
   "outputs": [],
   "source": [
    "#scaling oversampled\n",
    "x_trainOversampled = trainOversampled.drop('quality',axis=1) #training df without class column\n",
    "\n",
    "y_trainOversampled = trainOversampled['quality'] #training df only class column\n",
    "\n",
    "#map values of train from [3,8] to [0,5]\n",
    "y_trainOversampled = y_trainOversampled.map({3:0, 4:1, 5:2, 6:3, 7:4, 8:5})"
   ]
  },
  {
   "cell_type": "code",
   "execution_count": 23,
   "id": "3a3cc630",
   "metadata": {},
   "outputs": [
    {
     "data": {
      "image/png": "[encoded data removed]",
      "text/plain": [
       "<Figure size 640x480 with 1 Axes>"
      ]
     },
     "metadata": {},
     "output_type": "display_data"
    }
   ],
   "source": [
    "#plot to show that oversampling balanced the data\n",
    "plt.hist(y_trainOversampled, bins=11)\n",
    "plt.title(\"Histogram of Qualities after Oversampling\")\n",
    "plt.ylabel('Number of observations')\n",
    "plt.xlabel('Quality')\n",
    "plt.show()"
   ]
  },
  {
   "cell_type": "code",
   "execution_count": 24,
   "id": "5faa1cb6",
   "metadata": {},
   "outputs": [],
   "source": [
    "#scale trainOversampled w scaler from before\n",
    "#the same scaler will work bcus our oversampled data will have same range as raw data\n",
    "x_trainOversampledScaled=scaler.transform(x_trainOversampled)\n",
    "\n",
    "#make transformed data in a dataframe (.transform returns arrays, we want df) using old col names\n",
    "x_trainScaledOversampled = pd.DataFrame(x_trainOversampledScaled, columns=x_train.columns)"
   ]
  },
  {
   "cell_type": "code",
   "execution_count": 25,
   "id": "c77c3136",
   "metadata": {},
   "outputs": [
    {
     "name": "stdout",
     "output_type": "stream",
     "text": [
      "Model: \"sequential\"\n",
      "_________________________________________________________________\n",
      " Layer (type)                Output Shape              Param #   \n",
      "=================================================================\n",
      " dense (Dense)               (None, 12)                60        \n",
      "                                                                 \n",
      " dense_1 (Dense)             (None, 6)                 78        \n",
      "                                                                 \n",
      "=================================================================\n",
      "Total params: 138\n",
      "Trainable params: 138\n",
      "Non-trainable params: 0\n",
      "_________________________________________________________________\n"
     ]
    }
   ],
   "source": [
    "tf.keras.backend.clear_session() #resets parameters, necessary before each new model\n",
    "\n",
    "modelOversampledScaled = tf.keras.Sequential([tf.keras.layers.Dense(units=n_units, activation='relu', input_shape=n_inputs),\n",
    "                                                tf.keras.layers.Dense(units=6, activation='softmax')])\n",
    "\n",
    "modelOversampledScaled.summary()\n",
    "\n",
    "modelOversampledScaled.compile(optimizer='adam', loss='mae', metrics=['accuracy'])\n",
    "\n",
    "# modelOversampledScaled.fit(x_trainOversampledScaled, y_trainOversampled, epochs=n_epochs)"
   ]
  },
  {
   "cell_type": "code",
   "execution_count": 26,
   "id": "808bd4eb",
   "metadata": {},
   "outputs": [
    {
     "name": "stdout",
     "output_type": "stream",
     "text": [
      "Epoch 1/10\n",
      "33/33 [==============================] - 1s 7ms/step - loss: 2.3889 - accuracy: 0.1716 - val_loss: 2.4667 - val_accuracy: 0.3938\n",
      "Epoch 2/10\n",
      "33/33 [==============================] - 0s 3ms/step - loss: 2.3889 - accuracy: 0.1716 - val_loss: 2.4667 - val_accuracy: 0.3938\n",
      "Epoch 3/10\n",
      "33/33 [==============================] - 0s 3ms/step - loss: 2.3889 - accuracy: 0.1716 - val_loss: 2.4667 - val_accuracy: 0.3938\n",
      "Epoch 4/10\n",
      "33/33 [==============================] - 0s 3ms/step - loss: 2.3889 - accuracy: 0.1716 - val_loss: 2.4667 - val_accuracy: 0.3938\n",
      "Epoch 5/10\n",
      "33/33 [==============================] - 0s 3ms/step - loss: 2.3889 - accuracy: 0.1716 - val_loss: 2.4667 - val_accuracy: 0.3938\n",
      "Epoch 6/10\n",
      "33/33 [==============================] - 0s 3ms/step - loss: 2.3889 - accuracy: 0.1716 - val_loss: 2.4667 - val_accuracy: 0.3938\n",
      "Epoch 7/10\n",
      "33/33 [==============================] - 0s 3ms/step - loss: 2.3889 - accuracy: 0.1716 - val_loss: 2.4667 - val_accuracy: 0.3938\n",
      "Epoch 8/10\n",
      "33/33 [==============================] - 0s 3ms/step - loss: 2.3889 - accuracy: 0.1716 - val_loss: 2.4667 - val_accuracy: 0.3938\n",
      "Epoch 9/10\n",
      "33/33 [==============================] - 0s 3ms/step - loss: 2.3889 - accuracy: 0.1716 - val_loss: 2.4667 - val_accuracy: 0.3938\n",
      "Epoch 10/10\n",
      "33/33 [==============================] - 0s 3ms/step - loss: 2.3889 - accuracy: 0.1716 - val_loss: 2.4667 - val_accuracy: 0.3938\n"
     ]
    },
    {
     "data": {
      "text/plain": [
       "<keras.callbacks.History at 0x14283620ee0>"
      ]
     },
     "execution_count": 26,
     "metadata": {},
     "output_type": "execute_result"
    }
   ],
   "source": [
    "modelOversampledScaled.fit(x_trainOversampledScaled, y_trainOversampled, validation_data=(x_testScaled, y_test), \n",
    "                           batch_size=n_batch, epochs=n_epochs)"
   ]
  },
  {
   "cell_type": "code",
   "execution_count": 27,
   "id": "6480d0ba",
   "metadata": {},
   "outputs": [],
   "source": [
    "###end oversampled\n",
    "\n",
    "###begin weighted\n",
    "#returning to scaled data, then calculating weights and scaling"
   ]
  },
  {
   "cell_type": "code",
   "execution_count": 28,
   "id": "8182a9ef",
   "metadata": {},
   "outputs": [],
   "source": [
    "#make each column a numpy array for class weights computation\n",
    "qual3_numpy = qual3['quality'].to_numpy()\n",
    "qual4_numpy = qual4['quality'].to_numpy()\n",
    "qual5_numpy = qual5['quality'].to_numpy()\n",
    "qual6_numpy = qual6['quality'].to_numpy()\n",
    "qual7_numpy = qual7['quality'].to_numpy()\n",
    "qual8_numpy = qual8['quality'].to_numpy()\n",
    "\n",
    "#combine numpy arrays into whole numpy and set variable for class values\n",
    "whole_numpy = np.concatenate((qual3_numpy, qual4_numpy, qual5_numpy, qual6_numpy, qual7_numpy, qual8_numpy))\n",
    "unique_classes = np.unique(whole_numpy)\n",
    "\n",
    "#compute weights with sklearn method\n",
    "weights = sklearn.utils.class_weight.compute_class_weight(class_weight='balanced', classes=unique_classes, y=whole_numpy)\n",
    "weightsDict = {i:w for i,w in enumerate(weights)}"
   ]
  },
  {
   "cell_type": "code",
   "execution_count": 29,
   "id": "747631bd",
   "metadata": {
    "scrolled": true
   },
   "outputs": [
    {
     "name": "stdout",
     "output_type": "stream",
     "text": [
      "Model: \"sequential\"\n",
      "_________________________________________________________________\n",
      " Layer (type)                Output Shape              Param #   \n",
      "=================================================================\n",
      " dense (Dense)               (None, 12)                60        \n",
      "                                                                 \n",
      " dense_1 (Dense)             (None, 6)                 78        \n",
      "                                                                 \n",
      "=================================================================\n",
      "Total params: 138\n",
      "Trainable params: 138\n",
      "Non-trainable params: 0\n",
      "_________________________________________________________________\n"
     ]
    }
   ],
   "source": [
    "tf.keras.backend.clear_session() #resets parameters, necessary before each new model\n",
    "\n",
    "modelWeighted = tf.keras.Sequential([tf.keras.layers.Dense(units=n_units, activation='relu', input_shape=n_inputs), \n",
    "                                     tf.keras.layers.Dense(units=6, activation='softmax')])\n",
    "\n",
    "modelWeighted.summary()\n",
    "\n",
    "modelWeighted.compile(optimizer='adam', loss='mae', metrics=['accuracy'])\n",
    "\n",
    "# modelWeighted.fit(x_trainScaled, y_train, epochs=n_epochs, class_weight=weightsDict)"
   ]
  },
  {
   "cell_type": "code",
   "execution_count": 30,
   "id": "3490feb9",
   "metadata": {},
   "outputs": [
    {
     "name": "stdout",
     "output_type": "stream",
     "text": [
      "Epoch 1/10\n",
      "13/13 [==============================] - 1s 17ms/step - loss: 2.3889 - accuracy: 0.0743 - val_loss: 2.4667 - val_accuracy: 0.1000\n",
      "Epoch 2/10\n",
      "13/13 [==============================] - 0s 5ms/step - loss: 2.3889 - accuracy: 0.0743 - val_loss: 2.4667 - val_accuracy: 0.1000\n",
      "Epoch 3/10\n",
      "13/13 [==============================] - 0s 5ms/step - loss: 2.3889 - accuracy: 0.0743 - val_loss: 2.4667 - val_accuracy: 0.1000\n",
      "Epoch 4/10\n",
      "13/13 [==============================] - 0s 5ms/step - loss: 2.3889 - accuracy: 0.0743 - val_loss: 2.4667 - val_accuracy: 0.1000\n",
      "Epoch 5/10\n",
      "13/13 [==============================] - 0s 4ms/step - loss: 2.3889 - accuracy: 0.0743 - val_loss: 2.4667 - val_accuracy: 0.1000\n",
      "Epoch 6/10\n",
      "13/13 [==============================] - 0s 5ms/step - loss: 2.3889 - accuracy: 0.0743 - val_loss: 2.4667 - val_accuracy: 0.1000\n",
      "Epoch 7/10\n",
      "13/13 [==============================] - 0s 4ms/step - loss: 2.3889 - accuracy: 0.0743 - val_loss: 2.4667 - val_accuracy: 0.1000\n",
      "Epoch 8/10\n",
      "13/13 [==============================] - 0s 5ms/step - loss: 2.3889 - accuracy: 0.0743 - val_loss: 2.4667 - val_accuracy: 0.1000\n",
      "Epoch 9/10\n",
      "13/13 [==============================] - 0s 5ms/step - loss: 2.3889 - accuracy: 0.0743 - val_loss: 2.4667 - val_accuracy: 0.1000\n",
      "Epoch 10/10\n",
      "13/13 [==============================] - 0s 5ms/step - loss: 2.3889 - accuracy: 0.0743 - val_loss: 2.4667 - val_accuracy: 0.1000\n"
     ]
    },
    {
     "data": {
      "text/plain": [
       "<keras.callbacks.History at 0x1428589f1f0>"
      ]
     },
     "execution_count": 30,
     "metadata": {},
     "output_type": "execute_result"
    }
   ],
   "source": [
    "modelWeighted.fit(x_trainScaled, y_train, validation_data=(x_testScaled, y_test), class_weight=weightsDict,\n",
    "                    batch_size=n_batch, epochs=n_epochs)"
   ]
  },
  {
   "cell_type": "code",
   "execution_count": 31,
   "id": "2170e001",
   "metadata": {},
   "outputs": [
    {
     "name": "stdout",
     "output_type": "stream",
     "text": [
      "10/10 [==============================] - 0s 2ms/step\n",
      "Raw Model Metrics:\n",
      "Accuracy: 40.00%\n",
      "Precision: 76.00%\n",
      "Recall: 40.00%\n",
      "F1: 22.86%\n",
      "10/10 [==============================] - 0s 1ms/step\n",
      "Scaled Model Metrics:\n",
      "Accuracy: 16.56%\n",
      "Precision: 58.28%\n",
      "Recall: 16.56%\n",
      "F1: 11.17%\n",
      "10/10 [==============================] - 0s 2ms/step\n",
      "Scaled & Oversampled Model Metrics:\n",
      "Accuracy: 39.38%\n",
      "Precision: 72.72%\n",
      "Recall: 39.38%\n",
      "F1: 22.91%\n",
      "10/10 [==============================] - 0s 2ms/step\n",
      "Weighted Model Metrics:\n",
      "Accuracy: 10.00%\n",
      "Precision: 51.66%\n",
      "Recall: 10.00%\n",
      "F1: 9.21%\n"
     ]
    }
   ],
   "source": [
    "#function to output accuracy, precision, recall, and F1 for each model\n",
    "#input model name, model object, and appropriate test set x_test (scaled or unscaled)\n",
    "#output header and metric scores as percents\n",
    "\n",
    "def outputMetrics(modelname, model, x_test):\n",
    "    y_pred = model.predict(x_test)\n",
    "    \n",
    "    y_pred_df = (pd.DataFrame(y_pred))\n",
    "\n",
    "    y_pred_label = y_pred.argmax(axis=1)\n",
    "\n",
    "    f1 = f1_score(y_test,y_pred_label,average=\"weighted\",zero_division=1)\n",
    "    recall = recall_score(y_test,y_pred_label,average=\"weighted\",zero_division=1)\n",
    "    precision = precision_score(y_test, y_pred_label,average=\"weighted\",zero_division=1)\n",
    "    accuracy = accuracy_score(y_test,y_pred_label)\n",
    "    print(modelname, \"Metrics:\")\n",
    "    print(\"Accuracy: {:.2f}%\".format(accuracy*100))\n",
    "    print(\"Precision: {:.2f}%\".format(precision*100))\n",
    "    print(\"Recall: {:.2f}%\".format(recall*100))\n",
    "    print(\"F1: {:.2f}%\".format(f1*100))\n",
    "    \n",
    "outputMetrics(\"Raw Model\", modelRaw, x_test)\n",
    "outputMetrics(\"Scaled Model\", modelScaled, x_testScaled)\n",
    "outputMetrics(\"Scaled & Oversampled Model\", modelOversampledScaled, x_testScaled)\n",
    "outputMetrics(\"Weighted Model\", modelWeighted, x_testScaled)"
   ]
  }
 ],
 "metadata": {
  "kernelspec": {
   "display_name": "Python 3 (ipykernel)",
   "language": "python",
   "name": "python3"
  },
  "language_info": {
   "codemirror_mode": {
    "name": "ipython",
    "version": 3
   },
   "file_extension": ".py",
   "mimetype": "text/x-python",
   "name": "python",
   "nbconvert_exporter": "python",
   "pygments_lexer": "ipython3",
   "version": "3.9.13"
  }
 },
 "nbformat": 4,
 "nbformat_minor": 5
}
